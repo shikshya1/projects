{
  "nbformat": 4,
  "nbformat_minor": 0,
  "metadata": {
    "colab": {
      "provenance": []
    },
    "kernelspec": {
      "name": "python3",
      "display_name": "Python 3"
    },
    "language_info": {
      "name": "python"
    }
  },
  "cells": [
    {
      "cell_type": "code",
      "execution_count": null,
      "metadata": {
        "id": "P6kkM_EoxHG-"
      },
      "outputs": [],
      "source": []
    },
    {
      "cell_type": "markdown",
      "source": [
        "#Scraping data from reddit"
      ],
      "metadata": {
        "id": "hrzq7cLZxHo9"
      }
    },
    {
      "cell_type": "markdown",
      "source": [
        "Reddit has data on multiple topics that can be used for analysis and understanding of specific topic or issue. People post about their interest and experience.\n",
        "\n",
        "Access:\n",
        "\n",
        "Under App Preferences, create a new app with type script. This will give access to a temporary OAuth token (client ID and secret ID) . Apart from that, we will also need the username and password for the reddit app to access the API. "
      ],
      "metadata": {
        "id": "oiT8gIS-xL8G"
      }
    },
    {
      "cell_type": "code",
      "source": [
        "import requests\n",
        "import pandas as pd"
      ],
      "metadata": {
        "id": "DxblL7L51RPW"
      },
      "execution_count": 1,
      "outputs": []
    },
    {
      "cell_type": "code",
      "source": [
        "with open('auth.txt') as f:\n",
        "  lines= f.readlines()\n",
        "\n",
        "CLIENT_ID= lines[0].replace('\\n','')\n",
        "SECRET_KEY = lines[1].replace('\\n','')\n",
        "username = lines[2].replace('\\n','')\n",
        "password = lines[3].replace('\\n','')"
      ],
      "metadata": {
        "id": "JIhswPCoxKSG"
      },
      "execution_count": 2,
      "outputs": []
    },
    {
      "cell_type": "code",
      "source": [
        "auth= requests.auth.HTTPBasicAuth(CLIENT_ID, SECRET_KEY)\n",
        "\n",
        "data ={\n",
        "    'grant_type':'password',\n",
        "    'username':username,\n",
        "    'password' : password\n",
        "}\n",
        "\n",
        "headers = {'User-Agent':'ScraperAPI'}"
      ],
      "metadata": {
        "id": "PpaK1u4O1OiK"
      },
      "execution_count": 3,
      "outputs": []
    },
    {
      "cell_type": "code",
      "source": [
        "def get_access_token():\n",
        "  client_auth = requests.auth.HTTPBasicAuth(CLIENT_ID, SECRET_KEY)\n",
        "  post_data = data\n",
        "  # send request for an OAuth token\n",
        "  response = requests.post(\"https://www.reddit.com/api/v1/access_token\", auth=client_auth, data=post_data, headers=headers)\n",
        "  # Convert response to json and return the access token\n",
        "  return response.json()['access_token']"
      ],
      "metadata": {
        "id": "UvtP0kmZ1Yvq"
      },
      "execution_count": 4,
      "outputs": []
    },
    {
      "cell_type": "code",
      "source": [
        "TOKEN= get_access_token()\n"
      ],
      "metadata": {
        "id": "RwgCwYS21ZH8"
      },
      "execution_count": 5,
      "outputs": []
    },
    {
      "cell_type": "code",
      "source": [
        "# add authorization to our headers dictionary\n",
        "# headers = {**headers, **{'Authorization': f\"bearer {TOKEN}\"}}\n",
        "headers['Authorization'] =f'bearer {TOKEN}'\n",
        "\n",
        "# while the token is valid (~2 hours) we just add headers=headers to our requests\n",
        "requests.get('https://oauth.reddit.com/api/v1/me', headers=headers)"
      ],
      "metadata": {
        "colab": {
          "base_uri": "https://localhost:8080/"
        },
        "id": "hUgYuij11vNU",
        "outputId": "7bdca4f2-9193-45bb-a30f-73bc7c2c5883"
      },
      "execution_count": 6,
      "outputs": [
        {
          "output_type": "execute_result",
          "data": {
            "text/plain": [
              "<Response [200]>"
            ]
          },
          "metadata": {},
          "execution_count": 6
        }
      ]
    },
    {
      "cell_type": "code",
      "source": [
        "def append_results(res,df):\n",
        "  for post in res.json()['data']['children']:\n",
        "    df= df.append({\n",
        "        'id':post['kind'] + '_' + post['data']['id'],\n",
        "        'subreddit':post['data']['subreddit'],\n",
        "        'title': post['data']['title'],\n",
        "        'text' : post['data']['selftext'],\n",
        "        'upvote_ratio': post['data']['upvote_ratio'],\n",
        "        'ups' : post['data']['ups'],\n",
        "        'downs': post['data']['downs'],\n",
        "        'score': post['data']['score']\n",
        "    },ignore_index=True)\n",
        "\n",
        "  return df"
      ],
      "metadata": {
        "id": "H5Lz7ok5SSst"
      },
      "execution_count": 7,
      "outputs": []
    },
    {
      "cell_type": "code",
      "source": [
        "res = requests.get('https://oauth.reddit.com/r/depression/new', headers=headers,\n",
        "                   params={'limit':'1000'})"
      ],
      "metadata": {
        "id": "6tVt2FQ3STFB"
      },
      "execution_count": 8,
      "outputs": []
    },
    {
      "cell_type": "code",
      "source": [
        "df = pd.DataFrame()\n",
        "df= append_results(res,df)\n",
        "len(df)"
      ],
      "metadata": {
        "colab": {
          "base_uri": "https://localhost:8080/"
        },
        "id": "RfLuNKwvSVWW",
        "outputId": "6bb32537-a862-4266-ff60-1ca573b608d4"
      },
      "execution_count": 9,
      "outputs": [
        {
          "output_type": "execute_result",
          "data": {
            "text/plain": [
              "100"
            ]
          },
          "metadata": {},
          "execution_count": 9
        }
      ]
    },
    {
      "cell_type": "code",
      "source": [
        "for i in range(50):\n",
        "  last_post_id = res.json()['data']['children'][-1]\n",
        "  last_post_id = last_post_id['kind'] + '_' + last_post_id['data']['id']\n",
        "\n",
        "  print(last_post_id)\n",
        "\n",
        "  res = requests.get('https://oauth.reddit.com/r/depression/new', headers=headers,\n",
        "                    params={'after': last_post_id})\n",
        "\n",
        "  df = append_results(res,df)\n",
        "\n",
        "  print(len(df))"
      ],
      "metadata": {
        "id": "-w592ncTSaMF"
      },
      "execution_count": null,
      "outputs": []
    },
    {
      "cell_type": "code",
      "source": [
        "df.to_csv('depression.csv')"
      ],
      "metadata": {
        "id": "eUXg320YSlIR"
      },
      "execution_count": 11,
      "outputs": []
    },
    {
      "cell_type": "code",
      "source": [],
      "metadata": {
        "id": "MyIv3F4CSoL6"
      },
      "execution_count": null,
      "outputs": []
    }
  ]
}